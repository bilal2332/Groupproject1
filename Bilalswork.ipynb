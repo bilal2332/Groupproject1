{
  "nbformat": 4,
  "nbformat_minor": 0,
  "metadata": {
    "colab": {
      "provenance": []
    },
    "kernelspec": {
      "name": "python3",
      "display_name": "Python 3"
    },
    "language_info": {
      "name": "python"
    }
  },
  "cells": [
    {
      "cell_type": "code",
      "source": [
        "# Task 4\n",
        "def second_largest_unique(nums):\n",
        "    # Remove duplicates by converting list to a set\n",
        "    unique_nums = list(set(nums))\n",
        "\n",
        "    # If there are less than two unique numbers, return None\n",
        "    if len(unique_nums) < 2:\n",
        "        return None\n",
        "\n",
        "    # Sort the unique numbers in descending order\n",
        "    unique_nums.sort(reverse=True)\n",
        "\n",
        "    # Return the second largest number\n",
        "    return unique_nums[1]\n",
        "\n",
        "# Example usage:\n",
        "print(second_largest_unique([4, 5, 6, 6, 7]))  # Output: 6\n"
      ],
      "metadata": {
        "colab": {
          "base_uri": "https://localhost:8080/"
        },
        "id": "SfI8zqLEWhwv",
        "outputId": "5a00743e-5222-426b-ef75-f145ba804c35"
      },
      "execution_count": 21,
      "outputs": [
        {
          "output_type": "stream",
          "name": "stdout",
          "text": [
            "6\n"
          ]
        }
      ]
    },
    {
      "cell_type": "code",
      "source": [
        "# Task 5\n",
        "def count_distinct_pairs(nums, target):\n",
        "    seen = set()       # To keep track of numbers we've seen so far\n",
        "    pairs = set()      # To store unique pairs that sum to target\n",
        "\n",
        "    for num in nums:\n",
        "        complement = target - num  # Find the number that would complete the pair\n",
        "\n",
        "        # If the complement exists in seen, add the sorted pair to pairs set\n",
        "        if complement in seen:\n",
        "            pairs.add(tuple(sorted((num, complement))))  # Use tuple to make it hashable\n",
        "\n",
        "        # Add current number to seen set\n",
        "        seen.add(num)\n",
        "\n",
        "    # Return number of unique pairs\n",
        "    return len(pairs)\n",
        "\n",
        "# Example usage:\n",
        "print(count_distinct_pairs([1, 2, 3, 4, 3, 6], 6))  # Output: 2\n"
      ],
      "metadata": {
        "colab": {
          "base_uri": "https://localhost:8080/"
        },
        "id": "LugQEh5kWjOB",
        "outputId": "8de96e7b-7410-4c27-ad18-b5f2029daa98"
      },
      "execution_count": 22,
      "outputs": [
        {
          "output_type": "stream",
          "name": "stdout",
          "text": [
            "2\n"
          ]
        }
      ]
    },
    {
      "cell_type": "code",
      "source": [
        "# Task 6\n",
        "def remove_duplicates(nums):\n",
        "    seen = set()     # Set to keep track of numbers already added\n",
        "    result = []      # List to store the result without duplicates\n",
        "\n",
        "    for num in nums:\n",
        "        # Add to result only if not seen before\n",
        "        if num not in seen:\n",
        "            seen.add(num)\n",
        "            result.append(num)\n",
        "\n",
        "    # Return the list with duplicates removed, order preserved\n",
        "    return result\n",
        "\n",
        "# Example usage:\n",
        "print(remove_duplicates([1, 2, 2, 3, 4, 5, 1]))  # Output: [1, 2, 3, 4, 5]\n"
      ],
      "metadata": {
        "colab": {
          "base_uri": "https://localhost:8080/"
        },
        "id": "MIP2x9eaWnAs",
        "outputId": "02985052-ce00-45a8-bcda-e4dbc6355130"
      },
      "execution_count": 23,
      "outputs": [
        {
          "output_type": "stream",
          "name": "stdout",
          "text": [
            "[1, 2, 3, 4, 5]\n"
          ]
        }
      ]
    }
  ]
}